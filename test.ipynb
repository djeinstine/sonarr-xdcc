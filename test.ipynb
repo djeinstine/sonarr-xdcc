{
 "cells": [
  {
   "cell_type": "code",
   "execution_count": null,
   "metadata": {},
   "outputs": [
    {
     "ename": "",
     "evalue": "",
     "output_type": "error",
     "traceback": [
      "\u001b[1;31mRunning cells with 'sonarr-xdcc.venv' requires the ipykernel package.\n",
      "\u001b[1;31mRun the following command to install 'ipykernel' into the Python environment. \n",
      "\u001b[1;31mCommand: 'conda install -n sonarr-xdcc.venv ipykernel --update-deps --force-reinstall'"
     ]
    }
   ],
   "source": [
    "#import sys, random, requests, traceback,bs4\n",
    "from itertools import cycle\n",
    "#from proxyscrape import create_collector"
   ]
  },
  {
   "cell_type": "code",
   "execution_count": null,
   "metadata": {},
   "outputs": [],
   "source": [
    "#INIT PROXIES\n",
    "collector = create_collector('my-collector', 'http')\n",
    "\n",
    "#get proxies\n",
    "proxy_list = collector.get_proxies()\n",
    "proxy_pool = cycle(proxy_list)\n",
    "proxy_type = next(proxy_pool)\n",
    "proxy = ':'.join([proxy_type.host,proxy_type.port])"
   ]
  },
  {
   "cell_type": "code",
   "execution_count": null,
   "metadata": {},
   "outputs": [],
   "source": [
    "term = 'boruto'\n",
    "website= f\"https://subsplease.org/xdcc/search={term}\"\n",
    "\n",
    "#COLLECT RAW DATA\n",
    "raw_html = requests.get(website,proxies={\"http\": proxy, \"https\": proxy}, timeout=3)\n",
    "raw_html"
   ]
  },
  {
   "cell_type": "code",
   "execution_count": null,
   "metadata": {},
   "outputs": [],
   "source": []
  }
 ],
 "metadata": {
  "kernelspec": {
   "display_name": "Python 3",
   "language": "python",
   "name": "python3"
  },
  "language_info": {
   "name": "python",
   "version": "3.7.16"
  },
  "orig_nbformat": 4
 },
 "nbformat": 4,
 "nbformat_minor": 2
}
