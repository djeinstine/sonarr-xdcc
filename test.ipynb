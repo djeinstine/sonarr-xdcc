{
 "cells": [
  {
   "cell_type": "code",
   "execution_count": 1,
   "metadata": {},
   "outputs": [],
   "source": [
    "import sys, random, requests, traceback,bs4\n",
    "# from nordvpn_connect import initialize_vpn, rotate_VPN, close_vpn_connection"
   ]
  },
  {
   "cell_type": "code",
   "execution_count": 2,
   "metadata": {},
   "outputs": [],
   "source": [
    "\n",
    "term = 'boruto+269+1080p'\n",
    "website= f\"https://nibl.co.uk/search?query={term}\"\n",
    "\n",
    "raw_html = requests.get(website)#, timeout=30)\n",
    "response = raw_html.status_code"
   ]
  },
  {
   "cell_type": "code",
   "execution_count": 34,
   "metadata": {},
   "outputs": [
    {
     "data": {
      "text/plain": [
       "<Response [200]>"
      ]
     },
     "execution_count": 34,
     "metadata": {},
     "output_type": "execute_result"
    }
   ],
   "source": [
    "raw_html"
   ]
  },
  {
   "cell_type": "code",
   "execution_count": 3,
   "metadata": {},
   "outputs": [],
   "source": [
    "anime_soup = bs4.BeautifulSoup(raw_html.text,'html5lib')\n",
    "data= anime_soup.findAll(\"td\",{\"class\":\"border-dashed border-t border-gray-200 px-3 py-2 dark:border-gray-700\"})"
   ]
  },
  {
   "cell_type": "code",
   "execution_count": 22,
   "metadata": {},
   "outputs": [
    {
     "name": "stdout",
     "output_type": "stream",
     "text": [
      "['Ginpachi-Sensei', '101', '[SubsPlease] Boruto - Naruto Next Generations - 269 (1080p) [3FBB6292].mkv', '1.4G']\n",
      "['CR-HOLLAND|NEW', '6533', '[SubsPlease] Boruto - Naruto Next Generations - 269 (1080p) [3FBB6292].mkv', '1.4G']\n",
      "['CR-HOLLAND-IPv6|NEW', '6533', '[SubsPlease] Boruto - Naruto Next Generations - 269 (1080p) [3FBB6292].mkv', '1.4G']\n",
      "['CR-ARUTHA-IPv6|NEW', '6533', '[SubsPlease] Boruto - Naruto Next Generations - 269 (1080p) [3FBB6292].mkv', '1.4G']\n",
      "['CR-ARUTHA|NEW', '6533', '[SubsPlease] Boruto - Naruto Next Generations - 269 (1080p) [3FBB6292].mkv', '1.4G']\n"
     ]
    }
   ],
   "source": [
    "nibl_cols = ['bot_name','pack_num','size_mb','file_name','empty_space']\n",
    "num_cols = len(nibl_cols)\n",
    "num_results = len(data)\n",
    "\n",
    "results = []\n",
    "result_idx = 0\n",
    "for idx in range(0,num_cols%len(data),1):\n",
    "\n",
    "    #index\n",
    "    result_idx = idx*num_cols\n",
    "\n",
    "    #bot\n",
    "    bot = data[result_idx+0].a.text\n",
    "    #pack #\n",
    "    pack_num = data[result_idx+1].text\n",
    "    #size\n",
    "    file_size = data[result_idx+2].text\n",
    "    #item\n",
    "    file_name = data[result_idx+3].text\n",
    "\n",
    "    results = [bot,pack_num,file_name,file_size]\n",
    "    print(results)\n"
   ]
  },
  {
   "cell_type": "code",
   "execution_count": 9,
   "metadata": {},
   "outputs": [
    {
     "data": {
      "text/plain": [
       "5"
      ]
     },
     "execution_count": 9,
     "metadata": {},
     "output_type": "execute_result"
    }
   ],
   "source": [
    "num_items%len(data)"
   ]
  },
  {
   "cell_type": "code",
   "execution_count": null,
   "metadata": {},
   "outputs": [],
   "source": []
  }
 ],
 "metadata": {
  "kernelspec": {
   "display_name": "Python 3",
   "language": "python",
   "name": "python3"
  },
  "language_info": {
   "codemirror_mode": {
    "name": "ipython",
    "version": 3
   },
   "file_extension": ".py",
   "mimetype": "text/x-python",
   "name": "python",
   "nbconvert_exporter": "python",
   "pygments_lexer": "ipython3",
   "version": "3.7.16"
  },
  "orig_nbformat": 4
 },
 "nbformat": 4,
 "nbformat_minor": 2
}
